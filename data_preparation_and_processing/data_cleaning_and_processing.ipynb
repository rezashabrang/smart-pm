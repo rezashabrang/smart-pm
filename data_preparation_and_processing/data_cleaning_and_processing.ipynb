{
 "cells": [
  {
   "cell_type": "code",
   "execution_count": null,
   "metadata": {},
   "outputs": [],
   "source": [
    "# Data Preparation and Processing: Loading Sample Data\n",
    "import pandas as pd\n",
    "import numpy as np\n",
    "from sklearn.preprocessing import StandardScaler, MinMaxScaler\n",
    "from scipy import stats\n",
    "\n",
    "# Sample Data\n",
    "data = {\n",
    "    'Project Name': ['Project A', 'Project B', 'Project C', 'Project D', 'Project E'],\n",
    "    'Budgeted Cost': [10000, 15000, np.nan, 20000, 25000],\n",
    "    'Actual Cost': [12000, 14000, 21000, 24000, np.nan],\n",
    "    'Start Date': ['2024-01-01', '2024-02-01', '2024-03-01', '2024-04-01', '2024-05-01'],\n",
    "    'Team Size': [5, 6, 8, np.nan, 10]\n",
    "}\n",
    "\n",
    "df = pd.DataFrame(data)\n",
    "\n",
    "# Handling Missing Data\n",
    "df['Budgeted Cost'].fillna(df['Budgeted Cost'].mean(), inplace=True)\n",
    "df['Actual Cost'].fillna(df['Actual Cost'].mean(), inplace=True)\n",
    "df['Team Size'].fillna(df['Team Size'].mode()[0], inplace=True)\n",
    "\n",
    "# Removing Duplicates\n",
    "df.drop_duplicates(inplace=True)\n",
    "\n",
    "# Handling Outliers: Using Z-Score\n",
    "z_scores = np.abs(stats.zscore(df[['Budgeted Cost', 'Actual Cost']]))\n",
    "df = df[(z_scores < 3).all(axis=1)]  # Keep only rows with Z-score < 3\n",
    "\n",
    "# Data Transformation: Standardization and Normalization\n",
    "scaler = StandardScaler()\n",
    "df[['Budgeted Cost', 'Actual Cost']] = scaler.fit_transform(df[['Budgeted Cost', 'Actual Cost']])\n",
    "\n",
    "# View the cleaned and transformed data\n",
    "df\n"
   ]
  }
 ],
 "metadata": {
  "language_info": {
   "name": "python"
  }
 },
 "nbformat": 4,
 "nbformat_minor": 2
}
