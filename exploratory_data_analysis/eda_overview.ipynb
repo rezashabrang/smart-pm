{
 "cells": [
  {
   "cell_type": "code",
   "execution_count": null,
   "metadata": {},
   "outputs": [],
   "source": [
    "# Exploratory Data Analysis: Loading Sample Data\n",
    "import pandas as pd\n",
    "import matplotlib.pyplot as plt\n",
    "import seaborn as sns\n",
    "\n",
    "# Sample EDA Data\n",
    "data = {\n",
    "    'Project Name': ['Project A', 'Project B', 'Project C', 'Project D', 'Project E'],\n",
    "    'Budgeted Cost': [10000, 15000, 20000, 25000, 30000],\n",
    "    'Actual Cost': [12000, 14000, 21000, 24000, 31000],\n",
    "    'Duration (Days)': [150, 200, 250, 300, 350],\n",
    "}\n",
    "\n",
    "df = pd.DataFrame(data)\n",
    "\n",
    "# Univariate Analysis: Histogram\n",
    "plt.figure(figsize=(8, 6))\n",
    "sns.histplot(df['Budgeted Cost'], bins=5, kde=True)\n",
    "plt.title('Distribution of Budgeted Cost')\n",
    "plt.xlabel('Budgeted Cost')\n",
    "plt.ylabel('Frequency')\n",
    "plt.show()\n",
    "\n",
    "# Univariate Analysis: Box Plot\n",
    "plt.figure(figsize=(8, 6))\n",
    "sns.boxplot(x=df['Duration (Days)'])\n",
    "plt.title('Boxplot of Project Duration')\n",
    "plt.show()\n",
    "\n",
    "# Bivariate Analysis: Scatter Plot\n",
    "plt.figure(figsize=(8, 6))\n",
    "sns.scatterplot(x=df['Budgeted Cost'], y=df['Actual Cost'])\n",
    "plt.title('Budgeted Cost vs Actual Cost')\n",
    "plt.xlabel('Budgeted Cost')\n",
    "plt.ylabel('Actual Cost')\n",
    "plt.show()\n",
    "\n",
    "# Correlation Heatmap\n",
    "plt.figure(figsize=(8, 6))\n",
    "sns.heatmap(df[['Budgeted Cost', 'Actual Cost', 'Duration (Days)']].corr(), annot=True, cmap='coolwarm')\n",
    "plt.title('Correlation Heatmap')\n",
    "plt.show()\n"
   ]
  }
 ],
 "metadata": {
  "language_info": {
   "name": "python"
  }
 },
 "nbformat": 4,
 "nbformat_minor": 2
}
