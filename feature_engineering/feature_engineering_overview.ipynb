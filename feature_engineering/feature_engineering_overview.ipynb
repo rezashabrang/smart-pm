{
 "cells": [
  {
   "cell_type": "code",
   "execution_count": null,
   "metadata": {},
   "outputs": [],
   "source": [
    "# Feature Engineering: Creating New Features\n",
    "import pandas as pd\n",
    "from sklearn.preprocessing import StandardScaler, OneHotEncoder\n",
    "\n",
    "# Sample Feature Engineering Data\n",
    "data = {\n",
    "    'Project Name': ['Project A', 'Project B', 'Project C', 'Project D'],\n",
    "    'Start Date': ['2024-01-01', '2024-02-01', '2024-03-01', '2024-04-01'],\n",
    "    'End Date': ['2024-06-01', '2024-05-15', '2024-07-01', '2024-06-30'],\n",
    "    'Budgeted Cost': [10000, 15000, 20000, 25000],\n",
    "    'Actual Cost': [12000, 14000, 21000, 24000],\n",
    "    'Team Size': [5, 6, 8, 10]\n",
    "}\n",
    "\n",
    "df = pd.DataFrame(data)\n",
    "\n",
    "# Feature Creation: Project Duration\n",
    "df['Start Date'] = pd.to_datetime(df['Start Date'])\n",
    "df['End Date'] = pd.to_datetime(df['End Date'])\n",
    "df['Project Duration'] = (df['End Date'] - df['Start Date']).dt.days\n",
    "\n",
    "# Feature Creation: Cost Overrun\n",
    "df['Cost Overrun'] = df['Actual Cost'] / df['Budgeted Cost']\n",
    "\n",
    "# Feature Transformation: Scaling\n",
    "scaler = StandardScaler()\n",
    "df[['Project Duration', 'Cost Overrun']] = scaler.fit_transform(df[['Project Duration', 'Cost Overrun']])\n",
    "\n",
    "# Encoding Categorical Data: One-Hot Encoding\n",
    "encoder = OneHotEncoder(sparse=False)\n",
    "encoded_projects = encoder.fit_transform(df[['Project Name']])\n",
    "encoded_df = pd.DataFrame(encoded_projects, columns=encoder.categories_[0])\n",
    "\n",
    "# Concatenate the encoded columns with the original data\n",
    "df = pd.concat([df, encoded_df], axis=1)\n",
    "\n",
    "# View the processed data\n",
    "df\n"
   ]
  }
 ],
 "metadata": {
  "language_info": {
   "name": "python"
  }
 },
 "nbformat": 4,
 "nbformat_minor": 2
}
